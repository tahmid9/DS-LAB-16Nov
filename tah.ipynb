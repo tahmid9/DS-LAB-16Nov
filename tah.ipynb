{
  "nbformat": 4,
  "nbformat_minor": 0,
  "metadata": {
    "colab": {
      "provenance": [],
      "authorship_tag": "ABX9TyMenaD71/si4bJXwlrOyxg1",
      "include_colab_link": true
    },
    "kernelspec": {
      "name": "python3",
      "display_name": "Python 3"
    },
    "language_info": {
      "name": "python"
    }
  },
  "cells": [
    {
      "cell_type": "markdown",
      "metadata": {
        "id": "view-in-github",
        "colab_type": "text"
      },
      "source": [
        "<a href=\"https://colab.research.google.com/github/tahmid9/DS-LAB-16Nov/blob/main/tah.ipynb\" target=\"_parent\"><img src=\"https://colab.research.google.com/assets/colab-badge.svg\" alt=\"Open In Colab\"/></a>"
      ]
    },
    {
      "cell_type": "code",
      "execution_count": 1,
      "metadata": {
        "id": "EUU_1qhkQnD3"
      },
      "outputs": [],
      "source": [
        "a = 25\n",
        "b = 25\n",
        "c = a+b"
      ]
    },
    {
      "cell_type": "code",
      "source": [
        "print(\"Sum = \",c)"
      ],
      "metadata": {
        "colab": {
          "base_uri": "https://localhost:8080/"
        },
        "id": "shMOcWxoRBHM",
        "outputId": "6bc5a42a-75b0-4883-b286-3ad9d6702b09"
      },
      "execution_count": 3,
      "outputs": [
        {
          "output_type": "stream",
          "name": "stdout",
          "text": [
            "Sum =  50\n"
          ]
        }
      ]
    }
  ]
}